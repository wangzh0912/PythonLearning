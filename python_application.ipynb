{
 "cells": [
  {
   "cell_type": "code",
   "execution_count": null,
   "metadata": {},
   "outputs": [],
   "source": []
  },
  {
   "cell_type": "markdown",
   "metadata": {},
   "source": [
    "# String"
   ]
  },
  {
   "cell_type": "code",
   "execution_count": 1,
   "metadata": {},
   "outputs": [
    {
     "name": "stdout",
     "output_type": "stream",
     "text": [
      "2022-01-01\n"
     ]
    }
   ],
   "source": [
    "# remove certain characters from string\n",
    "file = '2022-01-01.csv'\n",
    "name = file.replace('.csv', '')\n",
    "print(name)"
   ]
  },
  {
   "cell_type": "markdown",
   "metadata": {},
   "source": [
    "# OS\n",
    "### Get root path"
   ]
  },
  {
   "cell_type": "code",
   "execution_count": 5,
   "metadata": {},
   "outputs": [
    {
     "name": "stdout",
     "output_type": "stream",
     "text": [
      "/Users/michael/Documents/Nathan/Intern/2021-12_AQUMON/Projects/DevProjects/magnum_strategy_report_generator/algorithm/purple_data_to_json.py\n",
      "/Users/michael/Documents/Nathan/Intern/2021-12_AQUMON/Projects/DevProjects/magnum_strategy_report_generator/algorithm/purple_data_to_json.py\n",
      "/Users/michael/Documents/Nathan/Intern/2021-12_AQUMON/Projects/DevProjects/magnum_strategy_report_generator\n"
     ]
    }
   ],
   "source": [
    "import os\n",
    "from os.path import abspath, dirname\n",
    "__file__ = '/Users/michael/Documents/Nathan/Intern/2021-12_AQUMON/Projects/DevProjects/magnum_strategy_report_generator/algorithm/purple_data_to_json.py'\n",
    "print(__file__) # get the path of current file (can not use in interactive mode)\n",
    "print(abspath(__file__)) # get the absolute path\n",
    "root_path = dirname(dirname(abspath(__file__)))\n",
    "print(root_path)"
   ]
  },
  {
   "cell_type": "markdown",
   "metadata": {},
   "source": [
    "### Specify path given root path"
   ]
  },
  {
   "cell_type": "code",
   "execution_count": 6,
   "metadata": {},
   "outputs": [],
   "source": [
    "# get a path \"/data\"\n",
    "data_path = os.path.join(root_path, 'data')"
   ]
  },
  {
   "cell_type": "markdown",
   "metadata": {},
   "source": [
    "### Generate new folder"
   ]
  },
  {
   "cell_type": "code",
   "execution_count": null,
   "metadata": {},
   "outputs": [],
   "source": [
    "def generate_new_folder(folder):\n",
    "    if not os.path.exists(folder):\n",
    "        os.makedirs(folder)\n",
    "    else:\n",
    "        pass"
   ]
  },
  {
   "cell_type": "markdown",
   "metadata": {},
   "source": [
    "### List files and clean system file"
   ]
  },
  {
   "cell_type": "code",
   "execution_count": 8,
   "metadata": {},
   "outputs": [
    {
     "name": "stdout",
     "output_type": "stream",
     "text": [
      "['.DS_Store', 'purple_product_json.zip', 'purple_product_json', 'exchange_rate_data', 'purple_product_data']\n",
      "['purple_product_json.zip', 'purple_product_json', 'exchange_rate_data', 'purple_product_data']\n"
     ]
    }
   ],
   "source": [
    "file_list = os.listdir(data_path)\n",
    "\n",
    "def mac_clean_dir(lst: list):\n",
    "    if '.DS_Store' in lst:\n",
    "        lst.remove('.DS_Store')\n",
    "        return lst\n",
    "    else:\n",
    "        return lst\n",
    "        \n",
    "print(file_list)\n",
    "file_list = mac_clean_dir(file_list)\n",
    "print(file_list)"
   ]
  }
 ],
 "metadata": {
  "interpreter": {
   "hash": "036ff4fed5dee63e7fc5e949e8b45d2fdb6801437dcb93b68b8fb0a80ea23d55"
  },
  "kernelspec": {
   "display_name": "Python 3.7.11 64-bit ('Python_3_7': conda)",
   "language": "python",
   "name": "python3"
  },
  "language_info": {
   "codemirror_mode": {
    "name": "ipython",
    "version": 3
   },
   "file_extension": ".py",
   "mimetype": "text/x-python",
   "name": "python",
   "nbconvert_exporter": "python",
   "pygments_lexer": "ipython3",
   "version": "3.7.11"
  },
  "orig_nbformat": 4
 },
 "nbformat": 4,
 "nbformat_minor": 2
}
