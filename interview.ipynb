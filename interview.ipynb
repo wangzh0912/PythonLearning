{
 "cells": [
  {
   "cell_type": "markdown",
   "metadata": {},
   "source": [
    "### Rank elements in list\n",
    "Give ranks of elements in reversed order."
   ]
  },
  {
   "cell_type": "code",
   "execution_count": 7,
   "metadata": {},
   "outputs": [
    {
     "name": "stdout",
     "output_type": "stream",
     "text": [
      "[1, 5, 2, 4, 3]\n"
     ]
    }
   ],
   "source": [
    "def rank(arr):\n",
    "    tmp = {}\n",
    "    for i, num in enumerate(sorted(arr)[::-1]):\n",
    "        if num not in tmp:\n",
    "            tmp[num] = i + 1\n",
    "    return [tmp[i] for i in arr]\n",
    "\n",
    "arr = [100, -3, 2, 0, 1]\n",
    "print(rank(arr))"
   ]
  },
  {
   "cell_type": "markdown",
   "metadata": {},
   "source": [
    "### Moving zeros to the front of an array (inplace)"
   ]
  },
  {
   "cell_type": "code",
   "execution_count": 7,
   "metadata": {},
   "outputs": [
    {
     "data": {
      "text/plain": [
       "[0, 0, 0, 0, 1, 3, 5, 3, 2]"
      ]
     },
     "execution_count": 7,
     "metadata": {},
     "output_type": "execute_result"
    }
   ],
   "source": [
    "arr = [1, 0, 0, 3, 0, 5, 0, 3, 2]\n",
    "write_pointer = len(arr) - 1\n",
    "zero_count = 0\n",
    "for read_pointer in range(len(arr)-1, -1, -1):\n",
    "    if arr[read_pointer] == 0:\n",
    "        zero_count += 1\n",
    "        continue\n",
    "    else:\n",
    "        arr[write_pointer] = arr[read_pointer]\n",
    "        write_pointer -= 1\n",
    "\n",
    "for i in range(zero_count):\n",
    "    arr[i] = 0\n",
    "\n",
    "arr"
   ]
  },
  {
   "cell_type": "code",
   "execution_count": 17,
   "metadata": {},
   "outputs": [
    {
     "data": {
      "text/plain": [
       "[3]"
      ]
     },
     "execution_count": 17,
     "metadata": {},
     "output_type": "execute_result"
    }
   ],
   "source": [
    "arr = [3,2,3]\n",
    "\n",
    "n = len(arr)\n",
    "a = None\n",
    "num_a = None\n",
    "b = None\n",
    "num_b = None\n",
    "\n",
    "for item in arr:\n",
    "    num_item = 1\n",
    "    if item == a:\n",
    "        num_a += 1\n",
    "    elif item == b:\n",
    "        num_b += 1\n",
    "    else:\n",
    "        if not num_a or num_a <= 0:\n",
    "            a = item\n",
    "            num_a = num_item\n",
    "        elif not num_b or num_b <= 0:\n",
    "            b = item\n",
    "            num_b = num_item\n",
    "        else:\n",
    "            num_a -= 1\n",
    "            num_b -= 1\n",
    "\n",
    "count_a = 0\n",
    "count_b = 0\n",
    "for item in arr:\n",
    "    if item == a:\n",
    "        count_a += 1\n",
    "    elif item == b:\n",
    "        count_b += 1\n",
    "res = []\n",
    "if count_a/n > 1/3:\n",
    "    res.append(a)\n",
    "if count_b/n > 1/3:\n",
    "    res.append(b)\n",
    "res"
   ]
  },
  {
   "cell_type": "markdown",
   "metadata": {},
   "source": [
    "#### Generating Permutation\n",
    "\n",
    "Given a string, generate all permutation of this string."
   ]
  },
  {
   "cell_type": "code",
   "execution_count": 23,
   "metadata": {},
   "outputs": [
    {
     "data": {
      "text/plain": [
       "['ABC', 'ACB', 'BAC', 'BCA', 'CBA', 'CAB']"
      ]
     },
     "execution_count": 23,
     "metadata": {},
     "output_type": "execute_result"
    }
   ],
   "source": [
    "def permute_helper(str_list: list, left_idx, right_idx, res):\n",
    "    if left_idx == right_idx:\n",
    "        res.append(''.join(str_list))\n",
    "    else:\n",
    "        for i in range(left_idx, right_idx+1):\n",
    "            # swap the character\n",
    "            str_list[left_idx], str_list[i] = str_list[i], str_list[left_idx]\n",
    "            # fix the swapped character and cope with the rest\n",
    "            permute_helper(str_list, left_idx+1, right_idx, res)\n",
    "            # backtrack: revert to original state for next permute\n",
    "            str_list[left_idx], str_list[i] = str_list[i], str_list[left_idx]\n",
    "\n",
    "def permute(s: str):\n",
    "    res = []\n",
    "    permute_helper(list(s), 0, len(s)-1, res)\n",
    "    return res\n",
    "\n",
    "permute('ABC')"
   ]
  },
  {
   "cell_type": "code",
   "execution_count": 26,
   "metadata": {},
   "outputs": [
    {
     "data": {
      "text/plain": [
       "True"
      ]
     },
     "execution_count": 26,
     "metadata": {},
     "output_type": "execute_result"
    }
   ],
   "source": [
    "True and True"
   ]
  },
  {
   "cell_type": "code",
   "execution_count": null,
   "metadata": {},
   "outputs": [],
   "source": [
    "import helper\n",
    "import pandas as pd\n",
    "import numpy as np\n",
    "from sklearn.preprocessing import MinMaxScaler\n",
    "from keras.models import Sequential, load_model\n",
    "from keras.layers import LSTM, Dense, Dropout\n",
    "import tensorflow as tf\n",
    "\n",
    "def create_dataset(df):\n",
    "  x = []\n",
    "  y = []\n",
    "  for i in range(50, df.shape[0]):\n",
    "      x.append(df[i-50:i, 0])\n",
    "      y.append(df[i, 0])\n",
    "  x = np.array(x)\n",
    "  y = np.array(y)\n",
    "  return x, y\n",
    "\n",
    "df = pd.read_csv('TSLA.csv')\n",
    "df = df['Open'].values\n",
    "df = df.reshape(-1, 1)\n",
    "\n",
    "# setup datasets\n",
    "dataset_train = np.array(df[:int(df.shape[0]*0.8)])\n",
    "dataset_test = np.array(df[int(df.shape[0]*0.8):])\n",
    "\n",
    "# scale the values\n",
    "scaler = MinMaxScaler(feature_range=(0,1))\n",
    "dataset_train = scaler.fit_transform(dataset_train)\n",
    "dataset_test = scaler.transform(dataset_test)\n",
    "\n",
    "# use the 'create_dataset' function here on the datasets to create train/test datasets\n",
    "x_train, y_train = helper.create_dataset(dataset_train)\n",
    "x_test, y_test = helper.create_dataset(dataset_test)\n",
    "\n",
    "# reshape the 'x_train' and 'x_test' datasets\n",
    "n_timestamp, n_feature = x_train.shape\n",
    "x_train = x_train.reshape(1, -1, 50)\n",
    "x_test = x_test.reshape(1, -1, 50)\n",
    "y_train = y_train.reshape(1, -1)\n",
    "y_test = y_train.reshape(1, -1)\n",
    "\n",
    "# implement the 'Sequential' model here\n",
    "model = Sequential()\n",
    "model.add(LSTM(4, input_dim=n_feature, return_sequences=True))\n",
    "model.add(Dropout(0.2))\n",
    "model.add(LSTM(4, return_sequences=True))\n",
    "model.add(Dropout(0.2))\n",
    "model.add(Dense(1))\n",
    "\n",
    "# compile the model, fit it, and then predict the values for 'x_test'\n",
    "model.compile(loss='mean_squared_error', optimizer='adam')\n",
    "model.fit(x_train, y_train, epochs=5, batch_size=16, verbose=0)\n",
    "y_predict = model.predict(x_test)\n",
    "\n",
    "# finally print the last column of the 'predictions' array and the model summary\n",
    "print(y_predict[0, -1, 0])\n",
    "print(model.summary())"
   ]
  },
  {
   "cell_type": "markdown",
   "metadata": {},
   "source": [
    "-----\n",
    "-----\n",
    "----X\n",
    "-----\n",
    "-----"
   ]
  }
 ],
 "metadata": {
  "kernelspec": {
   "display_name": "Python 3.7.11 ('python_3_7')",
   "language": "python",
   "name": "python3"
  },
  "language_info": {
   "codemirror_mode": {
    "name": "ipython",
    "version": 3
   },
   "file_extension": ".py",
   "mimetype": "text/x-python",
   "name": "python",
   "nbconvert_exporter": "python",
   "pygments_lexer": "ipython3",
   "version": "3.7.11"
  },
  "orig_nbformat": 4,
  "vscode": {
   "interpreter": {
    "hash": "d92d68bd6a7c07b6499da275ccef9d4c3518ff51b576888a40f52f0896a4bf17"
   }
  }
 },
 "nbformat": 4,
 "nbformat_minor": 2
}
