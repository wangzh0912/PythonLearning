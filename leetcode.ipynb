{
 "cells": [
  {
   "cell_type": "code",
   "execution_count": 1,
   "metadata": {},
   "outputs": [
    {
     "ename": "TypeError",
     "evalue": "unsupported operand type(s) for *: 'int' and 'NoneType'",
     "output_type": "error",
     "traceback": [
      "\u001b[0;31m---------------------------------------------------------------------------\u001b[0m",
      "\u001b[0;31mTypeError\u001b[0m                                 Traceback (most recent call last)",
      "\u001b[0;32m/var/folders/9l/0fltwrvx7lb3t_wkyf_3tv140000gn/T/ipykernel_33594/2616438506.py\u001b[0m in \u001b[0;36m<module>\u001b[0;34m\u001b[0m\n\u001b[1;32m     19\u001b[0m     \u001b[0;32melif\u001b[0m \u001b[0mn\u001b[0m \u001b[0;34m%\u001b[0m \u001b[0;36m2\u001b[0m \u001b[0;34m==\u001b[0m \u001b[0;36m1\u001b[0m\u001b[0;34m:\u001b[0m\u001b[0;34m\u001b[0m\u001b[0;34m\u001b[0m\u001b[0m\n\u001b[1;32m     20\u001b[0m         \u001b[0;32mreturn\u001b[0m \u001b[0mx\u001b[0m \u001b[0;34m*\u001b[0m \u001b[0mx\u001b[0m \u001b[0;34m*\u001b[0m \u001b[0mmyPow\u001b[0m\u001b[0;34m(\u001b[0m\u001b[0mx\u001b[0m\u001b[0;34m,\u001b[0m \u001b[0mn\u001b[0m\u001b[0;34m/\u001b[0m\u001b[0;36m2\u001b[0m\u001b[0;34m)\u001b[0m\u001b[0;34m\u001b[0m\u001b[0;34m\u001b[0m\u001b[0m\n\u001b[0;32m---> 21\u001b[0;31m \u001b[0mmyPow\u001b[0m\u001b[0;34m(\u001b[0m\u001b[0;36m2\u001b[0m\u001b[0;34m,\u001b[0m \u001b[0;36m5\u001b[0m\u001b[0;34m)\u001b[0m\u001b[0;34m\u001b[0m\u001b[0;34m\u001b[0m\u001b[0m\n\u001b[0m\u001b[1;32m     22\u001b[0m \u001b[0;31m# %%\u001b[0m\u001b[0;34m\u001b[0m\u001b[0;34m\u001b[0m\u001b[0;34m\u001b[0m\u001b[0m\n",
      "\u001b[0;32m/var/folders/9l/0fltwrvx7lb3t_wkyf_3tv140000gn/T/ipykernel_33594/2616438506.py\u001b[0m in \u001b[0;36mmyPow\u001b[0;34m(x, n)\u001b[0m\n\u001b[1;32m     16\u001b[0m         \u001b[0;32mreturn\u001b[0m \u001b[0;36m1\u001b[0m\u001b[0;34m\u001b[0m\u001b[0;34m\u001b[0m\u001b[0m\n\u001b[1;32m     17\u001b[0m     \u001b[0;32mif\u001b[0m \u001b[0mn\u001b[0m \u001b[0;34m%\u001b[0m \u001b[0;36m2\u001b[0m \u001b[0;34m==\u001b[0m \u001b[0;36m1\u001b[0m\u001b[0;34m:\u001b[0m\u001b[0;34m\u001b[0m\u001b[0;34m\u001b[0m\u001b[0m\n\u001b[0;32m---> 18\u001b[0;31m         \u001b[0;32mreturn\u001b[0m \u001b[0mx\u001b[0m \u001b[0;34m*\u001b[0m \u001b[0mmyPow\u001b[0m\u001b[0;34m(\u001b[0m\u001b[0mx\u001b[0m\u001b[0;34m,\u001b[0m \u001b[0mn\u001b[0m\u001b[0;34m-\u001b[0m\u001b[0;36m1\u001b[0m\u001b[0;34m)\u001b[0m\u001b[0;34m\u001b[0m\u001b[0;34m\u001b[0m\u001b[0m\n\u001b[0m\u001b[1;32m     19\u001b[0m     \u001b[0;32melif\u001b[0m \u001b[0mn\u001b[0m \u001b[0;34m%\u001b[0m \u001b[0;36m2\u001b[0m \u001b[0;34m==\u001b[0m \u001b[0;36m1\u001b[0m\u001b[0;34m:\u001b[0m\u001b[0;34m\u001b[0m\u001b[0;34m\u001b[0m\u001b[0m\n\u001b[1;32m     20\u001b[0m         \u001b[0;32mreturn\u001b[0m \u001b[0mx\u001b[0m \u001b[0;34m*\u001b[0m \u001b[0mx\u001b[0m \u001b[0;34m*\u001b[0m \u001b[0mmyPow\u001b[0m\u001b[0;34m(\u001b[0m\u001b[0mx\u001b[0m\u001b[0;34m,\u001b[0m \u001b[0mn\u001b[0m\u001b[0;34m/\u001b[0m\u001b[0;36m2\u001b[0m\u001b[0;34m)\u001b[0m\u001b[0;34m\u001b[0m\u001b[0;34m\u001b[0m\u001b[0m\n",
      "\u001b[0;31mTypeError\u001b[0m: unsupported operand type(s) for *: 'int' and 'NoneType'"
     ]
    }
   ],
   "source": [
    "\n",
    "strs = [\"eat\",\"tea\",\"tan\",\"ate\",\"nat\",\"bat\"]\n",
    "\n",
    "res = {}\n",
    "for obj in strs:\n",
    "    if tuple(sorted(obj)) in res:\n",
    "        res[tuple(sorted(obj))] += [obj]\n",
    "    else:\n",
    "        res[tuple(sorted(obj))] = [obj]\n",
    "    \n",
    "[val for val in res.values()]\n",
    "\n",
    "\n",
    "# %%"
   ]
  },
  {
   "cell_type": "code",
   "execution_count": 20,
   "metadata": {},
   "outputs": [
    {
     "data": {
      "text/plain": [
       "0.0"
      ]
     },
     "execution_count": 20,
     "metadata": {},
     "output_type": "execute_result"
    }
   ],
   "source": [
    "def myPow(x, n):\n",
    "    if n < 0:\n",
    "        return 1 / myPow(x, -n)\n",
    "    if n == 0:\n",
    "        return 1\n",
    "    if n % 2 == 1:\n",
    "        return x * myPow(x, n-1)\n",
    "    elif n % 2 == 0:\n",
    "        tmp = myPow(x, n/2) \n",
    "        return tmp * tmp\n",
    "myPow(0.00001, 2147483647)"
   ]
  },
  {
   "cell_type": "code",
   "execution_count": 26,
   "metadata": {},
   "outputs": [
    {
     "data": {
      "text/plain": [
       "[4, 3, 2, 2]"
      ]
     },
     "execution_count": 26,
     "metadata": {},
     "output_type": "execute_result"
    }
   ],
   "source": [
    "digits = [4,3,2,1]\n",
    "\n",
    "res = ''\n",
    "for str_digit in [str(digit) for digit in digits]:\n",
    "    res += str_digit\n",
    "\n",
    "[int(digit) for digit in str(int(res) + 1)]"
   ]
  },
  {
   "cell_type": "markdown",
   "metadata": {},
   "source": [
    "#### K’th Smallest/Largest Element in Unsorted Array\n",
    "Given an array and a number k where k is smaller than the size of the array, we need to find the k’th smallest element in the given array. It is given that all array elements are distinct."
   ]
  },
  {
   "cell_type": "code",
   "execution_count": 1,
   "metadata": {},
   "outputs": [
    {
     "name": "stdout",
     "output_type": "stream",
     "text": [
      "375\n"
     ]
    },
    {
     "data": {
      "text/plain": [
       "[1, 2, 5, 3, 9]"
      ]
     },
     "execution_count": 1,
     "metadata": {},
     "output_type": "execute_result"
    }
   ],
   "source": [
    "from bisect import bisect\n",
    "import numpy as np\n",
    "\n",
    "def sort_and_index(arr, k):\n",
    "    return sorted(arr)[k - 1]\n",
    "\n",
    "arr = np.random.randint(0, 1000, 500)\n",
    "print(sort_and_index(arr, 200))\n",
    "\n",
    "\n",
    "\n",
    " \n",
    "def quick_sort(arr, l, r, K):\n",
    "    l = 0\n",
    "    r = len()\n",
    " \n",
    "    # If k is smaller than number of\n",
    "    # elements in array\n",
    "    if (K > 0 and K <= r - l + 1):\n",
    " \n",
    "        # Partition the array around last\n",
    "        # element and get position of pivot\n",
    "        # element in sorted array\n",
    "        pos = partition(arr, l, r)\n",
    " \n",
    "        # If position is same as k\n",
    "        if (pos - l == K - 1):\n",
    "            return arr[pos]\n",
    "        if (pos - l > K - 1):  # If position is more,\n",
    "                              # recur for left subarray\n",
    "            return quick_sort(arr, l, pos - 1, K)\n",
    " \n",
    "        # Else recur for right subarray\n",
    "        return quick_sort(arr, pos + 1, r,\n",
    "                           K - pos + l - 1)\n",
    " \n",
    "    # If k is more than number of\n",
    "    # elements in array\n",
    "    return None\n",
    " \n",
    "# Standard partition process of QuickSort().\n",
    "# It considers the last element as pivot and\n",
    "# moves all smaller element to left of it\n",
    "# and greater elements to right\n",
    " \n",
    "bisect\n",
    "\n",
    "def partition(arr, l, r):\n",
    " \n",
    "    x = arr[r]\n",
    "    i = l\n",
    "    for j in range(l, r):\n",
    "        if (arr[j] <= x):\n",
    "            arr[i], arr[j] = arr[j], arr[i]\n",
    "            i += 1\n",
    "    arr[i], arr[r] = arr[r], arr[i]\n",
    "    return i\n",
    " \n",
    "arr = [1, 3, 5, 2, 9]\n",
    "partition(arr, 0, 3)\n",
    "arr\n"
   ]
  },
  {
   "cell_type": "code",
   "execution_count": 2,
   "metadata": {},
   "outputs": [
    {
     "data": {
      "text/plain": [
       "9223372036854775807"
      ]
     },
     "execution_count": 2,
     "metadata": {},
     "output_type": "execute_result"
    }
   ],
   "source": [
    "import sys\n",
    "sys.maxsize"
   ]
  },
  {
   "cell_type": "markdown",
   "metadata": {},
   "source": [
    "#### 3 Longest Substring Without Repeating Characters\n",
    "Given a string s, find the length of the longest substring without repeating characters."
   ]
  },
  {
   "cell_type": "code",
   "execution_count": 46,
   "metadata": {},
   "outputs": [
    {
     "name": "stdout",
     "output_type": "stream",
     "text": [
      "4\n",
      "4\n"
     ]
    }
   ],
   "source": [
    "s = 'baibainiubi'\n",
    "\n",
    "\n",
    "# https://www.interviewbit.com/blog/longest-substring-without-repeating-characters/\n",
    "\n",
    "def sliding_window(s: str) -> int:\n",
    "    N = len(s)\n",
    "    res_list = []\n",
    "    start = 0\n",
    "    while start < N:\n",
    "        used_char = {}\n",
    "        for end in range(start, N):\n",
    "            curr_char = s[end]\n",
    "            # if the 'end' char is dupplicated with the previous chars\n",
    "            # return the string before the 'end' char\n",
    "            if curr_char in used_char.keys():\n",
    "                res_list.append(s[start:end])\n",
    "                start = used_char[curr_char] + 1\n",
    "                break\n",
    "\n",
    "            # if the 'end' char reaches the end of string,\n",
    "            # return the string includes the 'end' char\n",
    "            if end == N-1:\n",
    "                res_list.append(s[start:end+1])\n",
    "                start = end + 1\n",
    "                \n",
    "            used_char[curr_char] = end\n",
    "\n",
    "    len_list = [len(_s) for _s in res_list]\n",
    "\n",
    "    if len(len_list) == 0:\n",
    "        return 0\n",
    "    else:\n",
    "        return max(len_list)\n",
    "\n",
    "def optim_sliding_window(s: str) -> int:\n",
    "    used_dict = {}\n",
    "    max_length = 0\n",
    "    start = 0\n",
    "\n",
    "    # we really don't need to iterate the start idx,\n",
    "    # we just iterate the end idx and call the start idx when calculating the string length\n",
    "    for end in range(len(s)):\n",
    "        curr_char = s[end]\n",
    "\n",
    "        if curr_char in used_dict and start <= used_dict[curr_char]:\n",
    "            start = used_dict[curr_char] + 1\n",
    "        else:\n",
    "            max_length = max(max_length, end - start + 1)\n",
    "            \n",
    "        used_dict[curr_char] = end\n",
    "\n",
    "    return max_length\n",
    "\n",
    "\n",
    "print(sliding_window(s))\n",
    "print(optim_sliding_window(s))\n"
   ]
  },
  {
   "cell_type": "markdown",
   "metadata": {},
   "source": [
    "#### 19 Remove Nth Node From End of List\n",
    "Given the head of a linked list, remove the nth node from the end of the list and return its head."
   ]
  },
  {
   "cell_type": "code",
   "execution_count": 1,
   "metadata": {},
   "outputs": [
    {
     "name": "stdout",
     "output_type": "stream",
     "text": [
      "3\n",
      "5\n",
      "135\n"
     ]
    }
   ],
   "source": [
    "class ListNode:\n",
    "    def __init__(self, val=0, next=None):\n",
    "        self.val = val\n",
    "        self.next = next\n",
    "\n",
    "head = ListNode(3)\n",
    "head.next = ListNode(5)\n",
    "head.next.next = ListNode(15)\n",
    "head.next.next.next = ListNode(135)\n",
    "\n",
    "def print_list(head):\n",
    "    if head:\n",
    "        print(head.val)\n",
    "        print_list(head.next)\n",
    "\n",
    "def solution_recursive(head, n):\n",
    "    def back_traversal(head, counter):\n",
    "        if head:\n",
    "            counter = back_traversal(head.next, counter)\n",
    "            counter += 1\n",
    "            if counter == n+1:\n",
    "                head.next = head.next.next\n",
    "            # print(head.val, counter)\n",
    "        return counter\n",
    "    new_node = ListNode(0)\n",
    "    new_node.next = head\n",
    "    back_traversal(new_node, 0)\n",
    "    return new_node.next\n",
    "\n",
    "# print_list(solution_recursive(head))\n",
    "def solution_fast_slow(head, n):\n",
    "    fast = head\n",
    "    slow = head\n",
    "    for _ in range(n):\n",
    "        fast = fast.next\n",
    "    while fast.next:\n",
    "        fast = fast.next\n",
    "        slow = slow.next\n",
    "    \n",
    "    slow.next = slow.next.next\n",
    "\n",
    "    return head\n",
    "\n",
    "print_list(solution_fast_slow(head, 2))"
   ]
  },
  {
   "cell_type": "markdown",
   "metadata": {},
   "source": [
    "#### 23 Merge k Sorted Lists\n",
    "You are given an array of k linked-lists lists, each linked-list is sorted in ascending order.\n",
    "\n",
    "Merge all the linked-lists into one sorted linked-list and return it.\n"
   ]
  },
  {
   "cell_type": "code",
   "execution_count": null,
   "metadata": {},
   "outputs": [],
   "source": []
  },
  {
   "cell_type": "markdown",
   "metadata": {},
   "source": [
    "#### 31 Next Permutation\n",
    "A permutation of an array of integers is an arrangement of its members into a sequence or linear order.\n",
    "\n",
    "For example, for arr = [1,2,3], the following are all the permutations of arr: [1,2,3], [1,3,2], [2, 1, 3], [2, 3, 1], [3,1,2], [3,2,1].\n",
    "The next permutation of an array of integers is the next lexicographically greater permutation of its integer. More formally, if all the permutations of the array are sorted in one container according to their lexicographical order, then the next permutation of that array is the permutation that follows it in the sorted container. If such arrangement is not possible, the array must be rearranged as the lowest possible order (i.e., sorted in ascending order).\n",
    "\n",
    "For example, the next permutation of arr = [1,2,3] is [1,3,2].\n",
    "Similarly, the next permutation of arr = [2,3,1] is [3,1,2].\n",
    "While the next permutation of arr = [3,2,1] is [1,2,3] because [3,2,1] does not have a lexicographical larger rearrangement.\n",
    "Given an array of integers nums, find the next permutation of nums.\n",
    "\n",
    "The replacement must be in place and use only constant extra memory.\n"
   ]
  },
  {
   "cell_type": "markdown",
   "metadata": {},
   "source": [
    "SOLUTION:\n",
    "\n",
    "If we would like to get the next greater sequence, we need to find from the lowest digit, i.e. the traverse from the end of the list.\n",
    "\n",
    "OUR GOAL IS TO SWAP A LARGER DIGIT NUMBER TO THE FRONT TO GET A GREATER SEQUENCE.\n",
    "\n",
    "In order to get the next greater sequence, not other greater sequence, we only swap the last peak in this sequence.\n",
    "\n",
    "E.g., arr = [1, 2, 3, 2, 3], the 3rd and the 5th elements are two peaks. If we swap the first peak and get 13233, this is not the NEXT sequence. If we swap the second peak and get 12332, this is the desired result."
   ]
  },
  {
   "cell_type": "code",
   "execution_count": 43,
   "metadata": {},
   "outputs": [
    {
     "name": "stdout",
     "output_type": "stream",
     "text": [
      "[5, 1, 1]\n"
     ]
    }
   ],
   "source": [
    "arr = [1, 2, 3, 2, 5, 4, 3]\n",
    "arr = [1, 5, 1]\n",
    "\n",
    "def next_permutation(arr):\n",
    "    n = len(arr)\n",
    "    peak_idx = None\n",
    "    # 1. find the last peak in the sequence\n",
    "    for i in range(n - 2, -1, -1):\n",
    "        if arr[i] < arr[i+1]:\n",
    "            peak_idx = i\n",
    "            break\n",
    "\n",
    "    if peak_idx is None:\n",
    "        arr.reverse()\n",
    "        return None\n",
    "\n",
    "    # 2. find the element to swap with the peak\n",
    "    for i in range(n - 1, i, -1):\n",
    "        if arr[i] > arr[peak_idx]:\n",
    "            swap_idx = i\n",
    "            break\n",
    "\n",
    "    # 3. swap with the peak\n",
    "    arr[peak_idx], arr[swap_idx] = arr[swap_idx], arr[peak_idx]\n",
    "\n",
    "    # 4. reverse (or sort) the array after the peak\n",
    "    l, u = peak_idx + 1, n - 1\n",
    "    while l < u:\n",
    "        arr[l], arr[u] = arr[u], arr[l]\n",
    "        l += 1\n",
    "        u -= 1\n",
    "\n",
    "    return None\n",
    "\n",
    "next_permutation(arr)\n",
    "print(arr)"
   ]
  },
  {
   "cell_type": "markdown",
   "metadata": {},
   "source": [
    "#### 94 Binary Tree Inorder Traversal"
   ]
  },
  {
   "cell_type": "code",
   "execution_count": 2,
   "metadata": {},
   "outputs": [
    {
     "name": "stdout",
     "output_type": "stream",
     "text": [
      "[4, 2, 5, 1, 3] [1, 2, 4, 5, 3] [4, 5, 2, 3, 1]\n"
     ]
    }
   ],
   "source": [
    "class TreeNode:\n",
    "\n",
    "    def __init__(self, val=None) -> None:\n",
    "        self.val = val\n",
    "        self.left = None\n",
    "        self.right = None\n",
    "\n",
    "root = TreeNode(1)\n",
    "root.left = TreeNode(2)\n",
    "root.left.left = TreeNode(4)\n",
    "root.left.right = TreeNode(5)\n",
    "root.right = TreeNode(3)\n",
    "\n",
    "\n",
    "def in_order(root, res=None):\n",
    "    if res is None:\n",
    "        res = []\n",
    "    if root:\n",
    "        res = in_order(root.left, res)\n",
    "        res.append(root.val)\n",
    "        res = in_order(root.right, res)\n",
    "    return res\n",
    "\n",
    "def pre_order(root, res=None):\n",
    "    if res is None:\n",
    "        res = []\n",
    "    if root:\n",
    "        res.append(root.val)\n",
    "        res = pre_order(root.left, res)\n",
    "        res = pre_order(root.right, res)\n",
    "    return res\n",
    "\n",
    "def post_order(root, res=None):\n",
    "    if res is None:\n",
    "        res = []\n",
    "    if root:\n",
    "        res = post_order(root.left, res)\n",
    "        res = post_order(root.right, res)\n",
    "        res.append(root.val)\n",
    "    return res\n",
    "\n",
    "print(in_order(root), pre_order(root), post_order(root))\n",
    "        "
   ]
  },
  {
   "cell_type": "markdown",
   "metadata": {},
   "source": [
    "#### 98 Validate BST\n",
    "If a tree is binary search tree, its in-order traversal shoud be strictly monotonically increasing."
   ]
  },
  {
   "cell_type": "code",
   "execution_count": 3,
   "metadata": {},
   "outputs": [
    {
     "data": {
      "text/plain": [
       "False"
      ]
     },
     "execution_count": 3,
     "metadata": {},
     "output_type": "execute_result"
    }
   ],
   "source": [
    "root = TreeNode(5)\n",
    "root.left = TreeNode(4)\n",
    "root.right = TreeNode(6)\n",
    "root.right.left = TreeNode(1)\n",
    "root.right.right = TreeNode(7)\n",
    "\n",
    "def check_bst(root):\n",
    "    inorder_list = in_order(root)\n",
    "    for i in range(1, len(inorder_list)):\n",
    "        if inorder_list[i-1] >= inorder_list[i]:\n",
    "            return False\n",
    "    return True\n",
    "\n",
    "\n",
    "def check_one(root: TreeNode, flag: bool = False):\n",
    "    if root:\n",
    "        flag = check_one(root.left, flag)\n",
    "        if root.val == 1:\n",
    "            return True\n",
    "        flag = check_one(root.right, flag)\n",
    "    return flag\n",
    "\n",
    "check_bst(root)"
   ]
  },
  {
   "cell_type": "markdown",
   "metadata": {},
   "source": [
    "#### 110 Balanced Binary Tree\n",
    "Given a binary tree, determine if it is height-balanced.\n",
    "\n",
    "For this problem, a height-balanced binary tree is defined as:\n",
    "\n",
    "a binary tree in which the left and right subtrees of every node differ in height by no more than 1."
   ]
  },
  {
   "cell_type": "code",
   "execution_count": 4,
   "metadata": {},
   "outputs": [
    {
     "name": "stdout",
     "output_type": "stream",
     "text": [
      "9 0 0\n",
      "15 0 0\n",
      "7 0 0\n",
      "20 1 1\n",
      "3 1 2\n"
     ]
    },
    {
     "data": {
      "text/plain": [
       "True"
      ]
     },
     "execution_count": 4,
     "metadata": {},
     "output_type": "execute_result"
    }
   ],
   "source": [
    "root = TreeNode(3)\n",
    "root.left = TreeNode(9)\n",
    "root.right = TreeNode(20)\n",
    "root.right.left = TreeNode(15)\n",
    "root.right.right = TreeNode(7)\n",
    "\n",
    "\n",
    "def dfs(root, flag):\n",
    "    if root:\n",
    "        left_count, flag = dfs(root.left, flag)\n",
    "        right_count, flag = dfs(root.right, flag)\n",
    "        if abs(left_count - right_count) > 1:\n",
    "            flag = False\n",
    "        \n",
    "        print(root.val, left_count, right_count)\n",
    "        return max(left_count, right_count) + 1, flag\n",
    "    else:\n",
    "        return 0, flag\n",
    "\n",
    "def check_balanced(root):\n",
    "    flag = True\n",
    "    _, flag = dfs(root, flag)\n",
    "    return flag\n",
    "\n",
    "check_balanced(root)\n"
   ]
  },
  {
   "cell_type": "markdown",
   "metadata": {},
   "source": [
    "#### 121 Best Time to Buy and Sell Stock\n",
    "You are given an array prices where prices[i] is the price of a given stock on the ith day.\n",
    "\n",
    "You want to maximize your profit by choosing a single day to buy one stock and choosing a different day in the future to sell that stock.\n",
    "\n",
    "Return the maximum profit you can achieve from this transaction. If you cannot achieve any profit, return 0.\n",
    "\n"
   ]
  },
  {
   "cell_type": "code",
   "execution_count": 5,
   "metadata": {},
   "outputs": [
    {
     "name": "stdout",
     "output_type": "stream",
     "text": [
      "457 µs ± 29.3 µs per loop (mean ± std. dev. of 7 runs, 1000 loops each)\n",
      "247 ms ± 45.8 ms per loop (mean ± std. dev. of 7 runs, 1 loop each)\n",
      "525 µs ± 103 µs per loop (mean ± std. dev. of 7 runs, 1000 loops each)\n",
      "0.8690519657116482 0.8690519657116482 0.8690519657116482\n"
     ]
    }
   ],
   "source": [
    "import numpy as np\n",
    "\n",
    "\n",
    "prices = [7, 1, 5, 3, 6, 4, -1]\n",
    "\n",
    "min_price = prices[0]\n",
    "max_profit = 0\n",
    "for price in prices:\n",
    "    min_price = min(min_price, price)\n",
    "    max_profit = max(max_profit, price - min_price)\n",
    "\n",
    "max_profit\n",
    "\n",
    "\n",
    "prices = np.random.lognormal(0.2, 0.3, 1000)\n",
    "\n",
    "def mdd(prices):\n",
    "    max_price = prices[0]\n",
    "    max_drawdown = 0\n",
    "    for price in prices:\n",
    "        max_price = max(max_price, price)\n",
    "        max_drawdown = max(max_drawdown, (max_price - price) / max_price)\n",
    "\n",
    "    return max_drawdown\n",
    "\n",
    "def bruteforce_mdd(prices):\n",
    "    dd = []\n",
    "    for i in range(len(prices)):\n",
    "        for j in range(i):\n",
    "            dd.append((prices[j] - prices[i]) / prices[j])\n",
    "    return max(dd)\n",
    "\n",
    "import pandas as pd\n",
    "def expanding_mdd(prices):\n",
    "    nav = pd.Series(prices)\n",
    "    return max(1 - nav / nav.expanding().max())\n",
    "\n",
    "%timeit mdd(prices)\n",
    "%timeit bruteforce_mdd(prices)\n",
    "%timeit expanding_mdd(prices)\n",
    "print(mdd(prices), bruteforce_mdd(prices), expanding_mdd(prices))\n",
    "\n",
    "\n"
   ]
  },
  {
   "cell_type": "markdown",
   "metadata": {},
   "source": [
    "#### 122 Best Time to Buy and Sell Stock II\n",
    "You are given an integer array prices where prices[i] is the price of a given stock on the ith day.\n",
    "\n",
    "On each day, you may decide to buy and/or sell the stock. You can only hold at most one share of the stock at any time. However, you can buy it then immediately sell it on the same day.\n",
    "\n",
    "Find and return the maximum profit you can achieve."
   ]
  },
  {
   "cell_type": "code",
   "execution_count": 6,
   "metadata": {},
   "outputs": [
    {
     "name": "stdout",
     "output_type": "stream",
     "text": [
      "210.8678228101961\n",
      "210.8678228101963\n"
     ]
    }
   ],
   "source": [
    "# Solution 1: the strategy can capture every capital gain in the price movement\n",
    "\n",
    "prices = np.random.lognormal(0.2, 0.3, 1000)\n",
    "\n",
    "def solution_total_gain(prices):\n",
    "    total_profit = 0\n",
    "    for i in range(1, len(prices)):\n",
    "        if prices[i-1] < prices[i]:\n",
    "            total_profit += prices[i] - prices[i-1]\n",
    "    return total_profit\n",
    "\n",
    "print(solution_total_gain(prices))\n",
    "\n",
    "# Solution 2: state machine DP\n",
    "# Two state: hold value and not hold value\n",
    "def solution_dp(prices):\n",
    "    curr_not_hold = 0\n",
    "    curr_hold = -float('inf')  # impossible to sell at the beginning\n",
    "    for price in prices:\n",
    "        prev_hold = curr_hold\n",
    "        prev_not_hold = curr_not_hold\n",
    "        # if buy stock at current date, the revenue is prev_not_hold - price\n",
    "        # current hold either from keep in hold, or from buy stock\n",
    "        curr_hold = max(prev_hold, prev_not_hold - price)\n",
    "        # if sell stock at current date, the revenue is prev_hold + price\n",
    "        # current not hold either from keep in not holding, or from sell stock\n",
    "        curr_not_hold = max(prev_not_hold, prev_hold + price)\n",
    "    \n",
    "    return curr_not_hold\n",
    "print(solution_dp(prices))\n"
   ]
  },
  {
   "cell_type": "markdown",
   "metadata": {},
   "source": [
    "#### 200 Number of Islands\n",
    "Given an m x n 2D binary grid grid which represents a map of '1's (land) and '0's (water), return the number of islands.\n",
    "\n",
    "An island is surrounded by water and is formed by connecting adjacent lands horizontally or vertically. You may assume all four edges of the grid are all surrounded by water."
   ]
  },
  {
   "cell_type": "code",
   "execution_count": 7,
   "metadata": {},
   "outputs": [
    {
     "name": "stdout",
     "output_type": "stream",
     "text": [
      "3\n"
     ]
    }
   ],
   "source": [
    "import numpy as np\n",
    "import itertools\n",
    "\n",
    "grid = [\n",
    "\t[\"1\",\"1\",\"0\",\"0\",\"0\"],\n",
    "  \t[\"1\",\"1\",\"0\",\"0\",\"0\"],\n",
    "  \t[\"0\",\"0\",\"1\",\"0\",\"0\"],\n",
    "  \t[\"0\",\"0\",\"0\",\"1\",\"1\"]\n",
    "]\n",
    "\n",
    "# Solution\n",
    "# 1. Iterate over every unvisited node\n",
    "# 2. For every unvisited node, if it is an island node, do the depth-first search to the adjacent cells\n",
    "# 3. Turn the searched nodes to visited\n",
    "\n",
    "\n",
    "grid = np.array(grid)\n",
    "visited_grid = np.zeros(grid.shape, dtype=bool)\n",
    "counter = 0\n",
    "\n",
    "def dfs(grid, visited_grid, i, j):\n",
    "\tif i < 0 or j < 0 or i >= grid.shape[0] or j >= grid.shape[1]:\n",
    "\t\treturn None\n",
    "\tif visited_grid[i, j] == True:\n",
    "\t\treturn None\n",
    "\tif grid[i, j] == '0':\n",
    "\t\treturn None\n",
    "\tvisited_grid[i, j] = True\n",
    "\tdfs(grid, visited_grid, i-1, j)\n",
    "\tdfs(grid, visited_grid, i+1, j)\n",
    "\tdfs(grid, visited_grid, i, j-1)\n",
    "\tdfs(grid, visited_grid, i, j+1)\n",
    "\n",
    "for i, j in itertools.product(range(grid.shape[0]), range(grid.shape[1])):\n",
    "\tif visited_grid[i, j] == False and grid[i, j] == '1':\n",
    "\t\tdfs(grid, visited_grid, i, j)\n",
    "\t\tcounter += 1\n",
    "\t\n",
    "\n",
    "print(counter)\n"
   ]
  },
  {
   "cell_type": "code",
   "execution_count": 8,
   "metadata": {},
   "outputs": [
    {
     "data": {
      "text/plain": [
       "[[1], [3, 4], [3], [], []]"
      ]
     },
     "execution_count": 8,
     "metadata": {},
     "output_type": "execute_result"
    }
   ],
   "source": [
    "num_course = 5\n",
    "pre_requisite = [[0, 1], [2, 3], [1, 3], [1, 4]]\n",
    "graph = [[] for _ in range(num_course)]\n",
    "graph\n",
    "for x, y in pre_requisite:\n",
    "    graph[x].append(y)\n",
    "graph"
   ]
  },
  {
   "cell_type": "code",
   "execution_count": null,
   "metadata": {},
   "outputs": [],
   "source": []
  },
  {
   "cell_type": "markdown",
   "metadata": {},
   "source": [
    "#### 657 Robot Return to Origin"
   ]
  },
  {
   "cell_type": "code",
   "execution_count": 9,
   "metadata": {},
   "outputs": [
    {
     "name": "stdout",
     "output_type": "stream",
     "text": [
      "True\n"
     ]
    },
    {
     "data": {
      "text/plain": [
       "(1, 1, 2, 2)"
      ]
     },
     "execution_count": 9,
     "metadata": {},
     "output_type": "execute_result"
    }
   ],
   "source": [
    "moves = 'UDRLRL'\n",
    "\n",
    "def judge_circle(moves: str) -> bool:\n",
    "    char_dict = {}\n",
    "    for char in moves:\n",
    "        char_dict[char] = char_dict.get(char, 0) + 1\n",
    "    \n",
    "    if (char_dict.get('U', 0) == char_dict.get('D', 0)) and (char_dict.get('L', 0) == char_dict.get('R', 0)):\n",
    "        return True\n",
    "    else:\n",
    "        return False\n",
    "\n",
    "print(judge_circle(moves))\n",
    "\n",
    "moves.count('U'), moves.count('D'), moves.count('R'), moves.count('L')"
   ]
  },
  {
   "cell_type": "markdown",
   "metadata": {},
   "source": [
    "#### 985 Sum of Even Numbers After Queries\n"
   ]
  },
  {
   "cell_type": "code",
   "execution_count": 10,
   "metadata": {},
   "outputs": [
    {
     "data": {
      "text/plain": [
       "[8, 6, 2, 4]"
      ]
     },
     "execution_count": 10,
     "metadata": {},
     "output_type": "execute_result"
    }
   ],
   "source": [
    "nums = [1, 2, 3, 4]\n",
    "queries = [[1, 0], [-3, 1], [-4, 0], [2, 3]]\n",
    "\n",
    "res = sum([i for i in nums if i%2 == 0])\n",
    "res_list = []\n",
    "for val, idx in queries:\n",
    "    if nums[idx] % 2 == 0 and val % 2 == 0:\n",
    "        res = res + val\n",
    "    elif nums[idx] % 2 != 0 and val % 2 == 0:\n",
    "        res = res\n",
    "    elif nums[idx] % 2 == 0 and val % 2 != 0:\n",
    "        res = res - nums[idx]\n",
    "    elif nums[idx] % 2 != 0 and val % 2 != 0:\n",
    "        res = res + val + nums[idx]\n",
    "    res_list.append(res)\n",
    "    nums[idx] += val\n",
    "\n",
    "res_list"
   ]
  },
  {
   "cell_type": "markdown",
   "metadata": {},
   "source": [
    "#### 1356 Sort Integers by The Number of 1Bits"
   ]
  },
  {
   "cell_type": "code",
   "execution_count": 11,
   "metadata": {},
   "outputs": [
    {
     "name": "stdout",
     "output_type": "stream",
     "text": [
      "[1, 2, 4, 8, 16, 32, 64, 128, 256, 512, 1024]\n"
     ]
    }
   ],
   "source": [
    "arr = [1024,512,256,128,64,32,16,8,4,2,1]\n",
    "\n",
    "def sort_by_bits(arr):\n",
    "    arr = sorted(arr)\n",
    "    return sorted(arr, key=lambda x: bin(x).count('1'))\n",
    "\n",
    "print(sort_by_bits(arr))"
   ]
  },
  {
   "cell_type": "code",
   "execution_count": 12,
   "metadata": {},
   "outputs": [],
   "source": [
    "\n",
    "nums = [1,2,3,1]\n",
    "nums = sorted(nums)\n",
    "for i in range(1, len(nums)):\n",
    "    if nums[i] == nums[i-1]:\n",
    "        pass\n"
   ]
  },
  {
   "cell_type": "code",
   "execution_count": null,
   "metadata": {},
   "outputs": [],
   "source": []
  },
  {
   "cell_type": "code",
   "execution_count": 13,
   "metadata": {},
   "outputs": [
    {
     "name": "stdout",
     "output_type": "stream",
     "text": [
      "[1, 0, 3, 4]\n"
     ]
    }
   ],
   "source": [
    "teamA = [2, 10, 5, 4, 8]\n",
    "teamB = [3, 1, 7, 8]\n",
    "res = []\n",
    "for match in teamB:\n",
    "    res.append(len([i for i in teamA if i <= match]))\n",
    "print(res)"
   ]
  },
  {
   "cell_type": "code",
   "execution_count": 14,
   "metadata": {},
   "outputs": [
    {
     "data": {
      "text/plain": [
       "[1, 0, 3, 4]"
      ]
     },
     "execution_count": 14,
     "metadata": {},
     "output_type": "execute_result"
    }
   ],
   "source": [
    "res"
   ]
  },
  {
   "cell_type": "code",
   "execution_count": null,
   "metadata": {},
   "outputs": [],
   "source": []
  },
  {
   "cell_type": "code",
   "execution_count": 15,
   "metadata": {},
   "outputs": [
    {
     "name": "stdout",
     "output_type": "stream",
     "text": [
      "0.49998\n"
     ]
    }
   ],
   "source": [
    "counter = 0\n",
    "N = int(1e5)\n",
    "dice = range(1, 7)\n",
    "res = []\n",
    "counter = 0\n",
    "\n",
    "for i in range(N):\n",
    "    A_point = 0\n",
    "    B_point = 0\n",
    "    while np.abs(A_point - B_point) < 2:\n",
    "        A_res = np.random.choice([0, 1])\n",
    "        B_res = np.random.choice([0, 1])\n",
    "        if A_res == 0:\n",
    "            A_point += 1\n",
    "        if B_res == 1:\n",
    "            B_point += 1\n",
    "    \n",
    "    if A_point > B_point:\n",
    "        counter += 1\n",
    "print(counter / N)\n"
   ]
  },
  {
   "cell_type": "code",
   "execution_count": 16,
   "metadata": {},
   "outputs": [
    {
     "name": "stderr",
     "output_type": "stream",
     "text": [
      "/opt/anaconda3/envs/Python_3_7/lib/python3.7/site-packages/ipykernel_launcher.py:1: DeprecationWarning: The default dtype for empty Series will be 'object' instead of 'float64' in a future version. Specify a dtype explicitly to silence this warning.\n",
      "  \"\"\"Entry point for launching an IPython kernel.\n"
     ]
    },
    {
     "data": {
      "text/plain": [
       "Series([], dtype: float64)"
      ]
     },
     "execution_count": 16,
     "metadata": {},
     "output_type": "execute_result"
    }
   ],
   "source": [
    "pd.Series(res).value_counts() / N"
   ]
  },
  {
   "cell_type": "code",
   "execution_count": 17,
   "metadata": {},
   "outputs": [],
   "source": [
    "dice = range(1, 7)\n",
    "for _ in range(1000):\n",
    "    A_res = np.random.choice(dice)\n",
    "    B_res = np.random.choice(dice)"
   ]
  },
  {
   "cell_type": "code",
   "execution_count": 18,
   "metadata": {},
   "outputs": [
    {
     "name": "stdout",
     "output_type": "stream",
     "text": [
      "0.2\n"
     ]
    }
   ],
   "source": [
    "counter = 0\n",
    "for i in range(1, 1000):\n",
    "    counter += 1/6 ** i\n",
    "print(counter)"
   ]
  },
  {
   "cell_type": "code",
   "execution_count": 17,
   "metadata": {},
   "outputs": [
    {
     "ename": "NameError",
     "evalue": "name 'kwargs' is not defined",
     "output_type": "error",
     "traceback": [
      "\u001b[0;31m---------------------------------------------------------------------------\u001b[0m",
      "\u001b[0;31mNameError\u001b[0m                                 Traceback (most recent call last)",
      "\u001b[0;32m/var/folders/9l/0fltwrvx7lb3t_wkyf_3tv140000gn/T/ipykernel_2670/4090629808.py\u001b[0m in \u001b[0;36m<module>\u001b[0;34m\u001b[0m\n\u001b[0;32m----> 1\u001b[0;31m \u001b[0mkwargs\u001b[0m\u001b[0;34m\u001b[0m\u001b[0;34m\u001b[0m\u001b[0m\n\u001b[0m",
      "\u001b[0;31mNameError\u001b[0m: name 'kwargs' is not defined"
     ]
    }
   ],
   "source": [
    " "
   ]
  },
  {
   "cell_type": "code",
   "execution_count": 22,
   "metadata": {},
   "outputs": [
    {
     "name": "stdout",
     "output_type": "stream",
     "text": [
      "4\n"
     ]
    },
    {
     "data": {
      "text/plain": [
       "3341584"
      ]
     },
     "execution_count": 22,
     "metadata": {},
     "output_type": "execute_result"
    }
   ],
   "source": [
    "class Number(object):\n",
    "    def __init__(self, val):\n",
    "        self.val = val\n",
    "    \n",
    "    @staticmethod\n",
    "    def square(val):\n",
    "        return val ** 2\n",
    "    \n",
    "    def calculate(self):\n",
    "        return self.square(self.val)\n",
    "\n",
    "num = Number(2)\n",
    "print(num.calculate())\n",
    "Number.square(1828)"
   ]
  },
  {
   "cell_type": "code",
   "execution_count": 30,
   "metadata": {},
   "outputs": [],
   "source": [
    "class Test(object):\n",
    "    def __init__(self, val):\n",
    "\n",
    "        self._val = val\n",
    "test = Test(2)"
   ]
  },
  {
   "cell_type": "code",
   "execution_count": 34,
   "metadata": {},
   "outputs": [
    {
     "data": {
      "text/plain": [
       "1"
      ]
     },
     "execution_count": 34,
     "metadata": {},
     "output_type": "execute_result"
    }
   ],
   "source": [
    "ls = [[]]\n",
    "len(ls)\n"
   ]
  },
  {
   "cell_type": "code",
   "execution_count": null,
   "metadata": {},
   "outputs": [],
   "source": []
  }
 ],
 "metadata": {
  "interpreter": {
   "hash": "036ff4fed5dee63e7fc5e949e8b45d2fdb6801437dcb93b68b8fb0a80ea23d55"
  },
  "kernelspec": {
   "display_name": "Python 3 (ipykernel)",
   "language": "python",
   "name": "python3"
  },
  "language_info": {
   "codemirror_mode": {
    "name": "ipython",
    "version": 3
   },
   "file_extension": ".py",
   "mimetype": "text/x-python",
   "name": "python",
   "nbconvert_exporter": "python",
   "pygments_lexer": "ipython3",
   "version": "3.7.11"
  },
  "varInspector": {
   "cols": {
    "lenName": 16,
    "lenType": 16,
    "lenVar": 40
   },
   "kernels_config": {
    "python": {
     "delete_cmd_postfix": "",
     "delete_cmd_prefix": "del ",
     "library": "var_list.py",
     "varRefreshCmd": "print(var_dic_list())"
    },
    "r": {
     "delete_cmd_postfix": ") ",
     "delete_cmd_prefix": "rm(",
     "library": "var_list.r",
     "varRefreshCmd": "cat(var_dic_list()) "
    }
   },
   "types_to_exclude": [
    "module",
    "function",
    "builtin_function_or_method",
    "instance",
    "_Feature"
   ],
   "window_display": false
  }
 },
 "nbformat": 4,
 "nbformat_minor": 2
}
